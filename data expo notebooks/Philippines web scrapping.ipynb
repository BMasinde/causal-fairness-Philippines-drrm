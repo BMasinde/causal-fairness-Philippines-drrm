{
 "cells": [
  {
   "cell_type": "markdown",
   "metadata": {
    "editable": true,
    "slideshow": {
     "slide_type": ""
    },
    "tags": []
   },
   "source": [
    "# Scrapping Philippines SGC website"
   ]
  },
  {
   "cell_type": "code",
   "execution_count": null,
   "metadata": {},
   "outputs": [],
   "source": [
    "# make sure we are running version 3.12.3\n",
    "from platform import python_version\n",
    "\n",
    "print(python_version())"
   ]
  },
  {
   "cell_type": "code",
   "execution_count": null,
   "metadata": {},
   "outputs": [],
   "source": [
    "# load libraries\n",
    "from bs4 import BeautifulSoup\n",
    "import requests\n",
    "import pandas as pd"
   ]
  },
  {
   "cell_type": "code",
   "execution_count": null,
   "metadata": {
    "editable": true,
    "slideshow": {
     "slide_type": ""
    },
    "tags": []
   },
   "outputs": [],
   "source": [
    "# website to scrape\n",
    "philippines_stat_web = \"https://psa.gov.ph/classification/psgc/municipalities\""
   ]
  },
  {
   "cell_type": "code",
   "execution_count": null,
   "metadata": {},
   "outputs": [],
   "source": [
    "# url request\n",
    "page = requests.get(philippines_stat_web)\n",
    "\n",
    "soup = BeautifulSoup(page.text, 'html') # html is the parser here, we want text from the page "
   ]
  },
  {
   "cell_type": "code",
   "execution_count": null,
   "metadata": {},
   "outputs": [],
   "source": [
    "print(soup)"
   ]
  },
  {
   "cell_type": "code",
   "execution_count": null,
   "metadata": {},
   "outputs": [],
   "source": [
    "# there's only one table in the website\n",
    "# confirmed gives the correct output\n",
    "table = soup.find('table')\n",
    "print(table)"
   ]
  },
  {
   "cell_type": "code",
   "execution_count": null,
   "metadata": {},
   "outputs": [],
   "source": [
    "# getting headers from var table above\n",
    "table_titles = table.find_all('th')\n",
    "table_titles"
   ]
  },
  {
   "cell_type": "code",
   "execution_count": null,
   "metadata": {},
   "outputs": [],
   "source": [
    "# using comprehensions\n",
    "header_titles = [title.text for title in table_titles]\n",
    "\n",
    "header_titles"
   ]
  },
  {
   "cell_type": "code",
   "execution_count": null,
   "metadata": {},
   "outputs": [],
   "source": [
    "# drop the last two in the list\n",
    "header_titles = header_titles[0:5]\n",
    "\n",
    "header_titles"
   ]
  },
  {
   "cell_type": "code",
   "execution_count": null,
   "metadata": {},
   "outputs": [],
   "source": [
    "ph_mun_inc_class = pd.DataFrame(columns = header_titles)\n",
    "\n",
    "ph_mun_inc_class"
   ]
  },
  {
   "cell_type": "code",
   "execution_count": null,
   "metadata": {},
   "outputs": [],
   "source": [
    "# get the td's table data\n",
    "column_data = table.find_all('tr')"
   ]
  },
  {
   "cell_type": "code",
   "execution_count": null,
   "metadata": {},
   "outputs": [],
   "source": [
    "for row in column_data[1:]: # start from position 1 coz of the empty list at index 0\n",
    "    #print(row.find_all('td'))\n",
    "    row_data = row.find_all('td')\n",
    "    # using comprehensions to clean up and extra clean row data\n",
    "    cln_row_data = [data.text for data in row_data]\n",
    "    #print(cln_row_data)\n",
    "    # append each row to dataframe ph_mun_inc_class\n",
    "    ## keep check on the curr index of the dataframe\n",
    "    length = len(ph_mun_inc_class)\n",
    "    ph_mun_inc_class.loc[length] = cln_row_data"
   ]
  },
  {
   "cell_type": "code",
   "execution_count": null,
   "metadata": {},
   "outputs": [],
   "source": [
    "ph_mun_inc_class"
   ]
  },
  {
   "cell_type": "code",
   "execution_count": null,
   "metadata": {},
   "outputs": [],
   "source": [
    "# export to csv file\n",
    "ph_mun_inc_class.to_csv(r'/Users/masinde/Documents/phd/causal fairness/data/extra_data/phl_income_cls.csv')"
   ]
  },
  {
   "cell_type": "code",
   "execution_count": null,
   "metadata": {},
   "outputs": [],
   "source": []
  },
  {
   "cell_type": "markdown",
   "metadata": {},
   "source": [
    "# Using function ph_sgc_web_scraper_fxn"
   ]
  },
  {
   "cell_type": "code",
   "execution_count": 1,
   "metadata": {},
   "outputs": [],
   "source": [
    "# load libraries\n",
    "from bs4 import BeautifulSoup\n",
    "import requests\n",
    "import pandas as pd"
   ]
  },
  {
   "cell_type": "code",
   "execution_count": 3,
   "metadata": {},
   "outputs": [],
   "source": [
    "# website to scrape\n",
    "philippines_stat_web = \"https://psa.gov.ph/classification/psgc/municipalities\""
   ]
  },
  {
   "cell_type": "code",
   "execution_count": 5,
   "metadata": {},
   "outputs": [],
   "source": [
    "# loading the function ph_sgc_wb_scraper_fxn\n",
    "%run '/Users/masinde/Projects/causal-fairness-Philippines-drrm/src/philippines_sgc_web_scraper_fxn.py'"
   ]
  },
  {
   "cell_type": "code",
   "execution_count": 7,
   "metadata": {},
   "outputs": [
    {
     "name": "stdout",
     "output_type": "stream",
     "text": [
      "table headers:['Municipality', '10 Digit Code', 'Correspondence Code', 'Income Class', 'Population(2020 Census)']\n"
     ]
    }
   ],
   "source": [
    "ph_mun_inc_class = ph_sgc_web_scraper(philippines_stat_web)"
   ]
  },
  {
   "cell_type": "code",
   "execution_count": 9,
   "metadata": {},
   "outputs": [
    {
     "data": {
      "text/html": [
       "<div>\n",
       "<style scoped>\n",
       "    .dataframe tbody tr th:only-of-type {\n",
       "        vertical-align: middle;\n",
       "    }\n",
       "\n",
       "    .dataframe tbody tr th {\n",
       "        vertical-align: top;\n",
       "    }\n",
       "\n",
       "    .dataframe thead th {\n",
       "        text-align: right;\n",
       "    }\n",
       "</style>\n",
       "<table border=\"1\" class=\"dataframe\">\n",
       "  <thead>\n",
       "    <tr style=\"text-align: right;\">\n",
       "      <th></th>\n",
       "      <th>Municipality</th>\n",
       "      <th>10 Digit Code</th>\n",
       "      <th>Correspondence Code</th>\n",
       "      <th>Income Class</th>\n",
       "      <th>Population(2020 Census)</th>\n",
       "    </tr>\n",
       "  </thead>\n",
       "  <tbody>\n",
       "    <tr>\n",
       "      <th>0</th>\n",
       "      <td>Pateros</td>\n",
       "      <td>1381701000</td>\n",
       "      <td>137606000</td>\n",
       "      <td>1st</td>\n",
       "      <td>65,227</td>\n",
       "    </tr>\n",
       "    <tr>\n",
       "      <th>1</th>\n",
       "      <td>Bangued</td>\n",
       "      <td>1400101000</td>\n",
       "      <td>140101000</td>\n",
       "      <td>1st</td>\n",
       "      <td>50,382</td>\n",
       "    </tr>\n",
       "    <tr>\n",
       "      <th>2</th>\n",
       "      <td>Boliney</td>\n",
       "      <td>1400102000</td>\n",
       "      <td>140102000</td>\n",
       "      <td>5th</td>\n",
       "      <td>4,551</td>\n",
       "    </tr>\n",
       "    <tr>\n",
       "      <th>3</th>\n",
       "      <td>Bucay</td>\n",
       "      <td>1400103000</td>\n",
       "      <td>140103000</td>\n",
       "      <td>5th</td>\n",
       "      <td>17,953</td>\n",
       "    </tr>\n",
       "    <tr>\n",
       "      <th>4</th>\n",
       "      <td>Bucloc</td>\n",
       "      <td>1400104000</td>\n",
       "      <td>140104000</td>\n",
       "      <td>6th</td>\n",
       "      <td>2,395</td>\n",
       "    </tr>\n",
       "  </tbody>\n",
       "</table>\n",
       "</div>"
      ],
      "text/plain": [
       "  Municipality 10 Digit Code Correspondence Code Income Class  \\\n",
       "0      Pateros    1381701000           137606000          1st   \n",
       "1     Bangued     1400101000           140101000          1st   \n",
       "2      Boliney    1400102000           140102000          5th   \n",
       "3        Bucay    1400103000           140103000          5th   \n",
       "4       Bucloc    1400104000           140104000          6th   \n",
       "\n",
       "  Population(2020 Census)  \n",
       "0                 65,227   \n",
       "1                 50,382   \n",
       "2                  4,551   \n",
       "3                 17,953   \n",
       "4                  2,395   "
      ]
     },
     "execution_count": 9,
     "metadata": {},
     "output_type": "execute_result"
    }
   ],
   "source": [
    "ph_mun_inc_class.head()"
   ]
  },
  {
   "cell_type": "code",
   "execution_count": 11,
   "metadata": {},
   "outputs": [
    {
     "data": {
      "text/plain": [
       "1493"
      ]
     },
     "execution_count": 11,
     "metadata": {},
     "output_type": "execute_result"
    }
   ],
   "source": [
    "len(ph_mun_inc_class)"
   ]
  },
  {
   "cell_type": "code",
   "execution_count": 15,
   "metadata": {},
   "outputs": [],
   "source": [
    "# export to csv file\n",
    "ph_mun_inc_class.to_csv(r'/Users/masinde/Projects/causal-fairness-Philippines-drrm/data/ph_income_cls.csv')"
   ]
  },
  {
   "cell_type": "code",
   "execution_count": null,
   "metadata": {},
   "outputs": [],
   "source": []
  }
 ],
 "metadata": {
  "@webio": {
   "lastCommId": null,
   "lastKernelId": null
  },
  "kernelspec": {
   "display_name": "Python 3 (ipykernel)",
   "language": "python",
   "name": "python3"
  },
  "language_info": {
   "codemirror_mode": {
    "name": "ipython",
    "version": 3
   },
   "file_extension": ".py",
   "mimetype": "text/x-python",
   "name": "python",
   "nbconvert_exporter": "python",
   "pygments_lexer": "ipython3",
   "version": "3.12.5"
  }
 },
 "nbformat": 4,
 "nbformat_minor": 4
}
