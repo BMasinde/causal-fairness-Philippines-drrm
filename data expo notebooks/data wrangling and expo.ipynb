{
 "cells": [
  {
   "cell_type": "markdown",
   "metadata": {
    "editable": true,
    "slideshow": {
     "slide_type": ""
    },
    "tags": []
   },
   "source": [
    "# Data Wrangling: Joining Baseline Data and Income Data"
   ]
  },
  {
   "cell_type": "markdown",
   "metadata": {},
   "source": [
    "This notebook joins baseline data ('combined_input_data.csv') and income data crawled from the Philippines statistics webpage."
   ]
  },
  {
   "cell_type": "code",
   "execution_count": 1,
   "metadata": {},
   "outputs": [],
   "source": [
    "# handling dataframes and csv files\n",
    "import pandas as pd\n",
    "import csv\n",
    "import numpy as np"
   ]
  },
  {
   "cell_type": "markdown",
   "metadata": {},
   "source": [
    "## Importing the datasets"
   ]
  },
  {
   "cell_type": "code",
   "execution_count": 3,
   "metadata": {},
   "outputs": [
    {
     "name": "stderr",
     "output_type": "stream",
     "text": [
      "/opt/homebrew/anaconda3/envs/py3-12-5/lib/python3.12/site-packages/openpyxl/worksheet/header_footer.py:48: UserWarning: Cannot parse header or footer so it will be ignored\n",
      "  warn(\"\"\"Cannot parse header or footer so it will be ignored\"\"\")\n"
     ]
    }
   ],
   "source": [
    "# reading data files\n",
    "\n",
    "path_base_data = '/Users/masinde/Projects/causal-fairness-Philippines-drrm/data/combined_input_data.csv'\n",
    "path_inc_data = '/Users/masinde/Projects/causal-fairness-Philippines-drrm/data/ph_income_cls.csv'\n",
    "\n",
    "\n",
    "## baseline data (municipality data)\n",
    "base_df = pd.read_csv(path_base_data)\n",
    "\n",
    "## income class data\n",
    "inc_df = pd.read_csv(path_inc_data)"
   ]
  },
  {
   "cell_type": "code",
   "execution_count": 5,
   "metadata": {},
   "outputs": [
    {
     "data": {
      "text/html": [
       "<div>\n",
       "<style scoped>\n",
       "    .dataframe tbody tr th:only-of-type {\n",
       "        vertical-align: middle;\n",
       "    }\n",
       "\n",
       "    .dataframe tbody tr th {\n",
       "        vertical-align: top;\n",
       "    }\n",
       "\n",
       "    .dataframe thead th {\n",
       "        text-align: right;\n",
       "    }\n",
       "</style>\n",
       "<table border=\"1\" class=\"dataframe\">\n",
       "  <thead>\n",
       "    <tr style=\"text-align: right;\">\n",
       "      <th></th>\n",
       "      <th>Mun_Code</th>\n",
       "      <th>typhoon</th>\n",
       "      <th>HAZ_rainfall_Total</th>\n",
       "      <th>HAZ_rainfall_max_6h</th>\n",
       "      <th>HAZ_rainfall_max_24h</th>\n",
       "      <th>HAZ_v_max</th>\n",
       "      <th>HAZ_dis_track_min</th>\n",
       "      <th>GEN_landslide_per</th>\n",
       "      <th>GEN_stormsurge_per</th>\n",
       "      <th>GEN_Bu_p_inSSA</th>\n",
       "      <th>...</th>\n",
       "      <th>VUL_StrongRoof_SalvageWall</th>\n",
       "      <th>VUL_LightRoof_StrongWall</th>\n",
       "      <th>VUL_LightRoof_LightWall</th>\n",
       "      <th>VUL_LightRoof_SalvageWall</th>\n",
       "      <th>VUL_SalvagedRoof_StrongWall</th>\n",
       "      <th>VUL_SalvagedRoof_LightWall</th>\n",
       "      <th>VUL_SalvagedRoof_SalvageWall</th>\n",
       "      <th>VUL_vulnerable_groups</th>\n",
       "      <th>VUL_pantawid_pamilya_beneficiary</th>\n",
       "      <th>DAM_perc_dmg</th>\n",
       "    </tr>\n",
       "  </thead>\n",
       "  <tbody>\n",
       "    <tr>\n",
       "      <th>0</th>\n",
       "      <td>PH175101000</td>\n",
       "      <td>durian2006</td>\n",
       "      <td>185.828571</td>\n",
       "      <td>14.716071</td>\n",
       "      <td>7.381696</td>\n",
       "      <td>55.032241</td>\n",
       "      <td>2.478142</td>\n",
       "      <td>2.64</td>\n",
       "      <td>6.18</td>\n",
       "      <td>6.18</td>\n",
       "      <td>...</td>\n",
       "      <td>0.097425</td>\n",
       "      <td>2.533055</td>\n",
       "      <td>41.892832</td>\n",
       "      <td>1.002088</td>\n",
       "      <td>0.000000</td>\n",
       "      <td>0.027836</td>\n",
       "      <td>0.083507</td>\n",
       "      <td>2.951511</td>\n",
       "      <td>46.931106</td>\n",
       "      <td>3.632568</td>\n",
       "    </tr>\n",
       "    <tr>\n",
       "      <th>1</th>\n",
       "      <td>PH030801000</td>\n",
       "      <td>durian2006</td>\n",
       "      <td>28.487500</td>\n",
       "      <td>1.893750</td>\n",
       "      <td>1.070833</td>\n",
       "      <td>23.402905</td>\n",
       "      <td>136.527982</td>\n",
       "      <td>0.78</td>\n",
       "      <td>40.87</td>\n",
       "      <td>40.80</td>\n",
       "      <td>...</td>\n",
       "      <td>0.118842</td>\n",
       "      <td>0.248487</td>\n",
       "      <td>2.182368</td>\n",
       "      <td>0.000000</td>\n",
       "      <td>0.000000</td>\n",
       "      <td>0.010804</td>\n",
       "      <td>0.010804</td>\n",
       "      <td>0.867603</td>\n",
       "      <td>8.967156</td>\n",
       "      <td>NaN</td>\n",
       "    </tr>\n",
       "    <tr>\n",
       "      <th>2</th>\n",
       "      <td>PH083701000</td>\n",
       "      <td>durian2006</td>\n",
       "      <td>8.818750</td>\n",
       "      <td>0.455208</td>\n",
       "      <td>0.255319</td>\n",
       "      <td>8.728380</td>\n",
       "      <td>288.358553</td>\n",
       "      <td>0.06</td>\n",
       "      <td>0.00</td>\n",
       "      <td>0.00</td>\n",
       "      <td>...</td>\n",
       "      <td>0.850008</td>\n",
       "      <td>1.218595</td>\n",
       "      <td>13.645253</td>\n",
       "      <td>0.549120</td>\n",
       "      <td>0.030089</td>\n",
       "      <td>0.090266</td>\n",
       "      <td>0.112833</td>\n",
       "      <td>3.338873</td>\n",
       "      <td>25.989168</td>\n",
       "      <td>NaN</td>\n",
       "    </tr>\n",
       "  </tbody>\n",
       "</table>\n",
       "<p>3 rows × 38 columns</p>\n",
       "</div>"
      ],
      "text/plain": [
       "      Mun_Code     typhoon  HAZ_rainfall_Total  HAZ_rainfall_max_6h  \\\n",
       "0  PH175101000  durian2006          185.828571            14.716071   \n",
       "1  PH030801000  durian2006           28.487500             1.893750   \n",
       "2  PH083701000  durian2006            8.818750             0.455208   \n",
       "\n",
       "   HAZ_rainfall_max_24h  HAZ_v_max  HAZ_dis_track_min  GEN_landslide_per  \\\n",
       "0              7.381696  55.032241           2.478142               2.64   \n",
       "1              1.070833  23.402905         136.527982               0.78   \n",
       "2              0.255319   8.728380         288.358553               0.06   \n",
       "\n",
       "   GEN_stormsurge_per  GEN_Bu_p_inSSA  ...  VUL_StrongRoof_SalvageWall  \\\n",
       "0                6.18            6.18  ...                    0.097425   \n",
       "1               40.87           40.80  ...                    0.118842   \n",
       "2                0.00            0.00  ...                    0.850008   \n",
       "\n",
       "   VUL_LightRoof_StrongWall  VUL_LightRoof_LightWall  \\\n",
       "0                  2.533055                41.892832   \n",
       "1                  0.248487                 2.182368   \n",
       "2                  1.218595                13.645253   \n",
       "\n",
       "   VUL_LightRoof_SalvageWall  VUL_SalvagedRoof_StrongWall  \\\n",
       "0                   1.002088                     0.000000   \n",
       "1                   0.000000                     0.000000   \n",
       "2                   0.549120                     0.030089   \n",
       "\n",
       "   VUL_SalvagedRoof_LightWall  VUL_SalvagedRoof_SalvageWall  \\\n",
       "0                    0.027836                      0.083507   \n",
       "1                    0.010804                      0.010804   \n",
       "2                    0.090266                      0.112833   \n",
       "\n",
       "   VUL_vulnerable_groups  VUL_pantawid_pamilya_beneficiary  DAM_perc_dmg  \n",
       "0               2.951511                         46.931106      3.632568  \n",
       "1               0.867603                          8.967156           NaN  \n",
       "2               3.338873                         25.989168           NaN  \n",
       "\n",
       "[3 rows x 38 columns]"
      ]
     },
     "execution_count": 5,
     "metadata": {},
     "output_type": "execute_result"
    }
   ],
   "source": [
    "# first 5 rows of base_df\n",
    "base_df.head(3)"
   ]
  },
  {
   "cell_type": "code",
   "execution_count": 7,
   "metadata": {},
   "outputs": [
    {
     "data": {
      "text/html": [
       "<div>\n",
       "<style scoped>\n",
       "    .dataframe tbody tr th:only-of-type {\n",
       "        vertical-align: middle;\n",
       "    }\n",
       "\n",
       "    .dataframe tbody tr th {\n",
       "        vertical-align: top;\n",
       "    }\n",
       "\n",
       "    .dataframe thead th {\n",
       "        text-align: right;\n",
       "    }\n",
       "</style>\n",
       "<table border=\"1\" class=\"dataframe\">\n",
       "  <thead>\n",
       "    <tr style=\"text-align: right;\">\n",
       "      <th></th>\n",
       "      <th>Unnamed: 0</th>\n",
       "      <th>Municipality</th>\n",
       "      <th>10 Digit Code</th>\n",
       "      <th>Correspondence Code</th>\n",
       "      <th>Income Class</th>\n",
       "      <th>Population(2020 Census)</th>\n",
       "    </tr>\n",
       "  </thead>\n",
       "  <tbody>\n",
       "    <tr>\n",
       "      <th>0</th>\n",
       "      <td>0</td>\n",
       "      <td>Pateros</td>\n",
       "      <td>1381701000</td>\n",
       "      <td>137606000.0</td>\n",
       "      <td>1st</td>\n",
       "      <td>65,227</td>\n",
       "    </tr>\n",
       "    <tr>\n",
       "      <th>1</th>\n",
       "      <td>1</td>\n",
       "      <td>Bangued</td>\n",
       "      <td>1400101000</td>\n",
       "      <td>140101000.0</td>\n",
       "      <td>1st</td>\n",
       "      <td>50,382</td>\n",
       "    </tr>\n",
       "    <tr>\n",
       "      <th>2</th>\n",
       "      <td>2</td>\n",
       "      <td>Boliney</td>\n",
       "      <td>1400102000</td>\n",
       "      <td>140102000.0</td>\n",
       "      <td>5th</td>\n",
       "      <td>4,551</td>\n",
       "    </tr>\n",
       "    <tr>\n",
       "      <th>3</th>\n",
       "      <td>3</td>\n",
       "      <td>Bucay</td>\n",
       "      <td>1400103000</td>\n",
       "      <td>140103000.0</td>\n",
       "      <td>5th</td>\n",
       "      <td>17,953</td>\n",
       "    </tr>\n",
       "    <tr>\n",
       "      <th>4</th>\n",
       "      <td>4</td>\n",
       "      <td>Bucloc</td>\n",
       "      <td>1400104000</td>\n",
       "      <td>140104000.0</td>\n",
       "      <td>6th</td>\n",
       "      <td>2,395</td>\n",
       "    </tr>\n",
       "  </tbody>\n",
       "</table>\n",
       "</div>"
      ],
      "text/plain": [
       "   Unnamed: 0 Municipality  10 Digit Code  Correspondence Code Income Class  \\\n",
       "0           0      Pateros     1381701000          137606000.0          1st   \n",
       "1           1     Bangued      1400101000          140101000.0          1st   \n",
       "2           2      Boliney     1400102000          140102000.0          5th   \n",
       "3           3        Bucay     1400103000          140103000.0          5th   \n",
       "4           4       Bucloc     1400104000          140104000.0          6th   \n",
       "\n",
       "  Population(2020 Census)  \n",
       "0                 65,227   \n",
       "1                 50,382   \n",
       "2                  4,551   \n",
       "3                 17,953   \n",
       "4                  2,395   "
      ]
     },
     "execution_count": 7,
     "metadata": {},
     "output_type": "execute_result"
    }
   ],
   "source": [
    "# first 5 rows of inc_df\n",
    "inc_df.head(5)"
   ]
  },
  {
   "cell_type": "code",
   "execution_count": 9,
   "metadata": {},
   "outputs": [
    {
     "data": {
      "text/html": [
       "<div>\n",
       "<style scoped>\n",
       "    .dataframe tbody tr th:only-of-type {\n",
       "        vertical-align: middle;\n",
       "    }\n",
       "\n",
       "    .dataframe tbody tr th {\n",
       "        vertical-align: top;\n",
       "    }\n",
       "\n",
       "    .dataframe thead th {\n",
       "        text-align: right;\n",
       "    }\n",
       "</style>\n",
       "<table border=\"1\" class=\"dataframe\">\n",
       "  <thead>\n",
       "    <tr style=\"text-align: right;\">\n",
       "      <th></th>\n",
       "      <th>ADM4_EN</th>\n",
       "      <th>ADM4_PCODE</th>\n",
       "      <th>ADM4_REF</th>\n",
       "      <th>ADM3_EN</th>\n",
       "      <th>ADM3_PCODE</th>\n",
       "      <th>ADM2_EN</th>\n",
       "      <th>ADM2_PCODE</th>\n",
       "      <th>ADM1_EN</th>\n",
       "      <th>ADM1_PCODE</th>\n",
       "      <th>ADM0_EN</th>\n",
       "      <th>ADM0_PCODE</th>\n",
       "      <th>date</th>\n",
       "      <th>validOn</th>\n",
       "      <th>validTo</th>\n",
       "      <th>AREA_SQKM</th>\n",
       "    </tr>\n",
       "  </thead>\n",
       "  <tbody>\n",
       "    <tr>\n",
       "      <th>0</th>\n",
       "      <td>Adams (Pob.)</td>\n",
       "      <td>PH0102801001</td>\n",
       "      <td>NaN</td>\n",
       "      <td>Adams</td>\n",
       "      <td>PH0102801</td>\n",
       "      <td>Ilocos Norte</td>\n",
       "      <td>PH01028</td>\n",
       "      <td>Region I (Ilocos Region)</td>\n",
       "      <td>PH01</td>\n",
       "      <td>Philippines (the)</td>\n",
       "      <td>PH</td>\n",
       "      <td>2022-11-09</td>\n",
       "      <td>2023-11-06</td>\n",
       "      <td>NaN</td>\n",
       "      <td>111.143026</td>\n",
       "    </tr>\n",
       "    <tr>\n",
       "      <th>1</th>\n",
       "      <td>Bani</td>\n",
       "      <td>PH0102802001</td>\n",
       "      <td>NaN</td>\n",
       "      <td>Bacarra</td>\n",
       "      <td>PH0102802</td>\n",
       "      <td>Ilocos Norte</td>\n",
       "      <td>PH01028</td>\n",
       "      <td>Region I (Ilocos Region)</td>\n",
       "      <td>PH01</td>\n",
       "      <td>Philippines (the)</td>\n",
       "      <td>PH</td>\n",
       "      <td>2022-11-09</td>\n",
       "      <td>2023-11-06</td>\n",
       "      <td>NaN</td>\n",
       "      <td>1.759757</td>\n",
       "    </tr>\n",
       "    <tr>\n",
       "      <th>2</th>\n",
       "      <td>Buyon</td>\n",
       "      <td>PH0102802002</td>\n",
       "      <td>NaN</td>\n",
       "      <td>Bacarra</td>\n",
       "      <td>PH0102802</td>\n",
       "      <td>Ilocos Norte</td>\n",
       "      <td>PH01028</td>\n",
       "      <td>Region I (Ilocos Region)</td>\n",
       "      <td>PH01</td>\n",
       "      <td>Philippines (the)</td>\n",
       "      <td>PH</td>\n",
       "      <td>2022-11-09</td>\n",
       "      <td>2023-11-06</td>\n",
       "      <td>NaN</td>\n",
       "      <td>3.872158</td>\n",
       "    </tr>\n",
       "    <tr>\n",
       "      <th>3</th>\n",
       "      <td>Cabaruan</td>\n",
       "      <td>PH0102802003</td>\n",
       "      <td>NaN</td>\n",
       "      <td>Bacarra</td>\n",
       "      <td>PH0102802</td>\n",
       "      <td>Ilocos Norte</td>\n",
       "      <td>PH01028</td>\n",
       "      <td>Region I (Ilocos Region)</td>\n",
       "      <td>PH01</td>\n",
       "      <td>Philippines (the)</td>\n",
       "      <td>PH</td>\n",
       "      <td>2022-11-09</td>\n",
       "      <td>2023-11-06</td>\n",
       "      <td>NaN</td>\n",
       "      <td>2.985220</td>\n",
       "    </tr>\n",
       "    <tr>\n",
       "      <th>4</th>\n",
       "      <td>Cabulalaan</td>\n",
       "      <td>PH0102802004</td>\n",
       "      <td>NaN</td>\n",
       "      <td>Bacarra</td>\n",
       "      <td>PH0102802</td>\n",
       "      <td>Ilocos Norte</td>\n",
       "      <td>PH01028</td>\n",
       "      <td>Region I (Ilocos Region)</td>\n",
       "      <td>PH01</td>\n",
       "      <td>Philippines (the)</td>\n",
       "      <td>PH</td>\n",
       "      <td>2022-11-09</td>\n",
       "      <td>2023-11-06</td>\n",
       "      <td>NaN</td>\n",
       "      <td>1.017535</td>\n",
       "    </tr>\n",
       "  </tbody>\n",
       "</table>\n",
       "</div>"
      ],
      "text/plain": [
       "        ADM4_EN    ADM4_PCODE ADM4_REF  ADM3_EN ADM3_PCODE       ADM2_EN  \\\n",
       "0  Adams (Pob.)  PH0102801001      NaN    Adams  PH0102801  Ilocos Norte   \n",
       "1          Bani  PH0102802001      NaN  Bacarra  PH0102802  Ilocos Norte   \n",
       "2         Buyon  PH0102802002      NaN  Bacarra  PH0102802  Ilocos Norte   \n",
       "3      Cabaruan  PH0102802003      NaN  Bacarra  PH0102802  Ilocos Norte   \n",
       "4    Cabulalaan  PH0102802004      NaN  Bacarra  PH0102802  Ilocos Norte   \n",
       "\n",
       "  ADM2_PCODE                   ADM1_EN ADM1_PCODE            ADM0_EN  \\\n",
       "0    PH01028  Region I (Ilocos Region)       PH01  Philippines (the)   \n",
       "1    PH01028  Region I (Ilocos Region)       PH01  Philippines (the)   \n",
       "2    PH01028  Region I (Ilocos Region)       PH01  Philippines (the)   \n",
       "3    PH01028  Region I (Ilocos Region)       PH01  Philippines (the)   \n",
       "4    PH01028  Region I (Ilocos Region)       PH01  Philippines (the)   \n",
       "\n",
       "  ADM0_PCODE       date    validOn  validTo   AREA_SQKM  \n",
       "0         PH 2022-11-09 2023-11-06      NaN  111.143026  \n",
       "1         PH 2022-11-09 2023-11-06      NaN    1.759757  \n",
       "2         PH 2022-11-09 2023-11-06      NaN    3.872158  \n",
       "3         PH 2022-11-09 2023-11-06      NaN    2.985220  \n",
       "4         PH 2022-11-09 2023-11-06      NaN    1.017535  "
      ]
     },
     "execution_count": 9,
     "metadata": {},
     "output_type": "execute_result"
    }
   ],
   "source": [
    "# first 5 rows of admin_bounds_DF\n",
    "admin_bounds_DF.head(5)"
   ]
  },
  {
   "cell_type": "code",
   "execution_count": 11,
   "metadata": {},
   "outputs": [
    {
     "data": {
      "text/plain": [
       "Unnamed: 0                   int64\n",
       "Municipality                object\n",
       "10 Digit Code                int64\n",
       "Correspondence Code        float64\n",
       "Income Class                object\n",
       "Population(2020 Census)     object\n",
       "dtype: object"
      ]
     },
     "execution_count": 11,
     "metadata": {},
     "output_type": "execute_result"
    }
   ],
   "source": [
    "# data types of the vars in dataframe inc_df?\n",
    "inc_df.dtypes"
   ]
  },
  {
   "cell_type": "code",
   "execution_count": 13,
   "metadata": {},
   "outputs": [
    {
     "name": "stdout",
     "output_type": "stream",
     "text": [
      "   Unnamed: 0 Municipality  10 Digit Code  Correspondence Code Income Class  \\\n",
      "0           0      Pateros     1381701000          137606000.0          1st   \n",
      "1           1     Bangued      1400101000          140101000.0          1st   \n",
      "2           2      Boliney     1400102000          140102000.0          5th   \n",
      "\n",
      "   Population(2020 Census)  \n",
      "0                    65227  \n",
      "1                    50382  \n",
      "2                     4551  \n",
      "Unnamed: 0                   int64\n",
      "Municipality                object\n",
      "10 Digit Code                int64\n",
      "Correspondence Code        float64\n",
      "Income Class                object\n",
      "Population(2020 Census)      int64\n",
      "dtype: object\n"
     ]
    }
   ],
   "source": [
    "# changing types of column population \n",
    "#inc_df.astype({'Municipality': 'str'}, {'Income Class': 'str'}, {'Population(2020 Census)': 'int64'}).dtypes\n",
    "\n",
    "## first strip removing commas\n",
    "inc_df['Population(2020 Census)'] = inc_df['Population(2020 Census)'].str.replace(',', '')\n",
    "\n",
    "## convert population to int\n",
    "#inc_df.astype({'Population(2020 Census)': 'int64'}).dtypes\n",
    "#inc_df['Population(2020 Census)'].astype(str).astype(int)\n",
    "\n",
    "inc_df['Population(2020 Census)'] = pd.to_numeric(inc_df['Population(2020 Census)'])\n",
    "\n",
    "print(inc_df.head(3))\n",
    "\n",
    "print(inc_df.dtypes)"
   ]
  },
  {
   "cell_type": "markdown",
   "metadata": {},
   "source": [
    "# NOTE!!\n",
    "'Correspondence Code' (in inc_df) matches with 'Mun Code' (in base_data)"
   ]
  },
  {
   "cell_type": "code",
   "execution_count": null,
   "metadata": {},
   "outputs": [],
   "source": [
    "# type casting throws error if there are nan\n",
    "nan_rows = inc_df[inc_df['Correspondence Code'].isnull()]\n",
    "\n",
    "print(nan_rows)"
   ]
  },
  {
   "cell_type": "code",
   "execution_count": null,
   "metadata": {},
   "outputs": [],
   "source": [
    "# remove NAN's in inc_df\n",
    "inc_df = inc_df.dropna()\n",
    "\n",
    "len(inc_df)"
   ]
  },
  {
   "cell_type": "code",
   "execution_count": null,
   "metadata": {},
   "outputs": [],
   "source": [
    "# THIS CODE THROWS AN ERROR\n",
    "# changing data type of 'Correspondence Code' to string\n",
    "#inc_df['Correspondence Code'] = inc_df['Correspondence Code'].astype(int).astype(str)\n",
    "\n",
    "# to integer\n",
    "#inc_df['Correspondence Code'] = inc_df['Correspondence Code'].astype(int)\n",
    "#base_df['Mun_Code_2']  = base_df['Mun_Code_2'].astype(int)\n",
    "\n",
    "#print(inc_df.dtypes)\n",
    "\n",
    "#print(base_df.dtypes)"
   ]
  },
  {
   "cell_type": "code",
   "execution_count": null,
   "metadata": {},
   "outputs": [],
   "source": [
    "print(inc_df['Correspondence Code'])"
   ]
  },
  {
   "cell_type": "code",
   "execution_count": null,
   "metadata": {},
   "outputs": [],
   "source": []
  },
  {
   "cell_type": "code",
   "execution_count": null,
   "metadata": {},
   "outputs": [],
   "source": [
    "# change municipality code to digits\n",
    "\n",
    "base_df['Mun_Code_2'] = base_df['Mun_Code'].str.strip('PH')\n",
    "\n",
    "base_df['Mun_Code_2']  = base_df['Mun_Code_2'].astype(int)\n",
    "\n",
    "print(base_df['Mun_Code_2'].head(5))"
   ]
  },
  {
   "cell_type": "code",
   "execution_count": null,
   "metadata": {},
   "outputs": [],
   "source": [
    "# add municipality name, income class, and population to base_df\n",
    "base_df_merge = pd.merge(base_df, inc_df, how = 'left', left_on = 'Mun_Code_2', right_on = 'Correspondence Code')\n",
    "\n",
    "base_df_merge.head(5)"
   ]
  },
  {
   "cell_type": "markdown",
   "metadata": {},
   "source": [
    "After join let's check the row match"
   ]
  },
  {
   "cell_type": "code",
   "execution_count": null,
   "metadata": {},
   "outputs": [],
   "source": [
    "# length \n",
    "len(base_df_merge)"
   ]
  },
  {
   "cell_type": "code",
   "execution_count": null,
   "metadata": {},
   "outputs": [],
   "source": [
    "len(base_df)"
   ]
  },
  {
   "cell_type": "code",
   "execution_count": null,
   "metadata": {},
   "outputs": [],
   "source": [
    "# are there any missing ...\n",
    "nan_rows = base_df_merge[base_df_merge['Correspondence Code'].isnull()]\n",
    "\n",
    "print(nan_rows)"
   ]
  },
  {
   "cell_type": "code",
   "execution_count": null,
   "metadata": {},
   "outputs": [],
   "source": [
    "print(base_df.loc[[75]])"
   ]
  },
  {
   "cell_type": "markdown",
   "metadata": {},
   "source": [
    "So after merging we lose 682 rows (observations) because they do not have a common. So we lose approx 134 municipalities."
   ]
  },
  {
   "cell_type": "code",
   "execution_count": null,
   "metadata": {},
   "outputs": [],
   "source": [
    "# but how many of the municipality codes are duplicates?\n",
    "len(nan_rows['Mun_Code_2'].unique())"
   ]
  },
  {
   "cell_type": "markdown",
   "metadata": {},
   "source": [
    "## Export joined dataframe"
   ]
  },
  {
   "cell_type": "code",
   "execution_count": null,
   "metadata": {},
   "outputs": [],
   "source": [
    "path_2_write = '/Users/masinde/Projects/causal-fairness-Philippines-drrm/data/base_inc_data.csv'\n",
    "\n",
    "base_df_merge.to_csv(path_2_write, index=False)"
   ]
  }
 ],
 "metadata": {
  "@webio": {
   "lastCommId": null,
   "lastKernelId": null
  },
  "kernelspec": {
   "display_name": "Python 3 (ipykernel)",
   "language": "python",
   "name": "python3"
  },
  "language_info": {
   "codemirror_mode": {
    "name": "ipython",
    "version": 3
   },
   "file_extension": ".py",
   "mimetype": "text/x-python",
   "name": "python",
   "nbconvert_exporter": "python",
   "pygments_lexer": "ipython3",
   "version": "3.12.5"
  }
 },
 "nbformat": 4,
 "nbformat_minor": 4
}
