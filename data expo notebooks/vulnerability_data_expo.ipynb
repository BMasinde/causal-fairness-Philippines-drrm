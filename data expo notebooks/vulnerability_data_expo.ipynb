{
 "cells": [
  {
   "cell_type": "markdown",
   "id": "ce0e2eb8-0bbf-4936-8c7c-195854947feb",
   "metadata": {},
   "source": [
    "# Vulnerability in the Philippines (In the context of Tropical Cyclones)"
   ]
  },
  {
   "cell_type": "markdown",
   "id": "1bc00072-1632-4c6f-954e-6e2d02e8accb",
   "metadata": {},
   "source": [
    "A known problem of the Philippines context is the spatial opposing gradients for hazard and vulnerability. This \n",
    "challenges decision making for aid allocation. In this notebook, the aim is to understand the characteristics of \n",
    "vulnerability in the Philippines. [How and why?]"
   ]
  },
  {
   "cell_type": "markdown",
   "id": "6d791390-3dab-4428-b534-6d3e4decafc9",
   "metadata": {},
   "source": [
    "## The Dataset(s)"
   ]
  },
  {
   "cell_type": "code",
   "execution_count": 1,
   "id": "c211a040-fe63-4da3-87a7-62a56d0a75f3",
   "metadata": {},
   "outputs": [],
   "source": [
    "# libaries for handling data and visualization\n",
    "import pandas as pd\n",
    "import numpy as np\n",
    "from plotnine import ggplot, aes, geom_point, labs"
   ]
  },
  {
   "cell_type": "code",
   "execution_count": null,
   "id": "978f9297-bece-4d8f-875e-3cac91a96fd9",
   "metadata": {
    "editable": true,
    "slideshow": {
     "slide_type": ""
    },
    "tags": []
   },
   "outputs": [],
   "source": []
  },
  {
   "cell_type": "code",
   "execution_count": null,
   "id": "b5358601-0821-40ef-a810-b8d125fd7d22",
   "metadata": {},
   "outputs": [],
   "source": []
  }
 ],
 "metadata": {
  "kernelspec": {
   "display_name": "Python 3 (ipykernel)",
   "language": "python",
   "name": "python3"
  },
  "language_info": {
   "codemirror_mode": {
    "name": "ipython",
    "version": 3
   },
   "file_extension": ".py",
   "mimetype": "text/x-python",
   "name": "python",
   "nbconvert_exporter": "python",
   "pygments_lexer": "ipython3",
   "version": "3.12.5"
  }
 },
 "nbformat": 4,
 "nbformat_minor": 5
}
